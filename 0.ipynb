{
 "cells": [
  {
   "cell_type": "code",
   "execution_count": 1,
   "metadata": {},
   "outputs": [
    {
     "name": "stdout",
     "output_type": "stream",
     "text": [
      "Grados Farenheit:  [50.0, 25.0, 10.0]\n",
      "Grados Centigrados:  [10.0, -3.89, -12.22]\n"
     ]
    }
   ],
   "source": [
    "datos_fa = []\n",
    "datos_ce=[]\n",
    "i=0\n",
    "\n",
    "while True:\n",
    "        \n",
    "    entrada = input(\"Escribe el valor en grados Farenheit o 'salir' para terminar: \")\n",
    "    if entrada =='salir':\n",
    "        break\n",
    "    else:\n",
    "        try:\n",
    "            \n",
    "            numero=float(entrada)\n",
    "            datos_fa.append(numero)\n",
    "            centigrados =(datos_fa[i]-32)/1.8\n",
    "            centigrados = round (centigrados,2)\n",
    "            datos_ce.append(centigrados)\n",
    "\n",
    "            i=i+1\n",
    "        except:\n",
    "            \n",
    "            print (\"ingresa un número valido o salir\")\n",
    "\n",
    "#imprimir\n",
    "print(\"Grados Farenheit: \", datos_fa)\n",
    "print (\"Grados Centigrados: \", datos_ce)"
   ]
  }
 ],
 "metadata": {
  "kernelspec": {
   "display_name": "Python 3",
   "language": "python",
   "name": "python3"
  },
  "language_info": {
   "codemirror_mode": {
    "name": "ipython",
    "version": 3
   },
   "file_extension": ".py",
   "mimetype": "text/x-python",
   "name": "python",
   "nbconvert_exporter": "python",
   "pygments_lexer": "ipython3",
   "version": "3.11.2"
  }
 },
 "nbformat": 4,
 "nbformat_minor": 2
}
